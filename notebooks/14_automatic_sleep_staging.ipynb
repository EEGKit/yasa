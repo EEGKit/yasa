{
 "cells": [
  {
   "cell_type": "markdown",
   "metadata": {},
   "source": [
    "# Automatic sleep staging\n",
    "\n",
    "This notebook demonstrates how to perform automatic sleep staging of polysomnography data in YASA. For more details, make sure to read the [eLife publication](https://elifesciences.org/articles/70092).\n",
    "\n",
    "Please install the latest version of YASA first with: `pip install --upgrade yasa`."
   ]
  },
  {
   "cell_type": "code",
   "execution_count": 1,
   "metadata": {},
   "outputs": [],
   "source": [
    "import mne\n",
    "import yasa\n",
    "import numpy as np\n",
    "import pandas as pd\n",
    "import matplotlib.pyplot as plt"
   ]
  },
  {
   "cell_type": "markdown",
   "metadata": {},
   "source": [
    "## Data loading\n",
    "\n",
    "The automatic sleep staging function requires that the data are loaded using the [MNE Python package](https://mne.tools/stable/index.html). For instance, if your polysomnography data are stored in the standard European Data Fomat (.edf), you can use [this function](https://mne.tools/stable/generated/mne.io.read_raw_edf.html?highlight=read_raw_edf#mne.io.read_raw_edf) to load the data into Python."
   ]
  },
  {
   "cell_type": "code",
   "execution_count": 2,
   "metadata": {},
   "outputs": [
    {
     "name": "stdout",
     "output_type": "stream",
     "text": [
      "The channels are: ['F3', 'F4', 'C3', 'C4', 'O1', 'O2', 'EOG1', 'EOG2', 'EMG1']\n",
      "The sampling frequency is: 100.0\n"
     ]
    },
    {
     "data": {
      "text/html": [
       "<table class=\"table table-hover table-striped table-sm table-responsive small\">\n",
       "    <tr>\n",
       "        <th>Measurement date</th>\n",
       "        \n",
       "        <td>January 15, 2016  14:01:00 GMT</td>\n",
       "        \n",
       "    </tr>\n",
       "    <tr>\n",
       "        <th>Experimenter</th>\n",
       "        \n",
       "        <td>Unknown</td>\n",
       "        \n",
       "    </tr>\n",
       "        <th>Participant</th>\n",
       "        \n",
       "        <td>Unknown</td>\n",
       "        \n",
       "    </tr>\n",
       "    <tr>\n",
       "        <th>Digitized points</th>\n",
       "        \n",
       "        <td>15 points</td>\n",
       "        \n",
       "    </tr>\n",
       "    <tr>\n",
       "        <th>Good channels</th>\n",
       "        <td>6 EEG, 2 EOG, 1 EMG</td>\n",
       "    </tr>\n",
       "    <tr>\n",
       "        <th>Bad channels</th>\n",
       "        <td>None</td>\n",
       "    </tr>\n",
       "    <tr>\n",
       "        <th>EOG channels</th>\n",
       "        <td>EOG1, EOG2</td>\n",
       "    </tr>\n",
       "    <tr>\n",
       "        <th>ECG channels</th>\n",
       "        <td>Not available</td>\n",
       "    \n",
       "    <tr>\n",
       "        <th>Sampling frequency</th>\n",
       "        <td>100.00 Hz</td>\n",
       "    </tr>\n",
       "    \n",
       "    \n",
       "    <tr>\n",
       "        <th>Highpass</th>\n",
       "        <td>0.00 Hz</td>\n",
       "    </tr>\n",
       "    \n",
       "    \n",
       "    <tr>\n",
       "        <th>Lowpass</th>\n",
       "        <td>50.00 Hz</td>\n",
       "    </tr>\n",
       "    \n",
       "    \n",
       "    \n",
       "    <tr>\n",
       "        <th>Filenames</th>\n",
       "        <td>sub-02_mne_raw.fif</td>\n",
       "    </tr>\n",
       "    \n",
       "    <tr>\n",
       "        <th>Duration</th>\n",
       "        <td>00:48:60 (HH:MM:SS)</td>\n",
       "    </tr>\n",
       "</table>"
      ],
      "text/plain": [
       "<Raw | sub-02_mne_raw.fif, 9 x 294000 (2940.0 s), ~20.2 MB, data loaded>"
      ]
     },
     "execution_count": 2,
     "metadata": {},
     "output_type": "execute_result"
    }
   ],
   "source": [
    "# Let's load a nap recording, directly as an MNE Raw object\n",
    "raw = mne.io.read_raw_fif('sub-02_mne_raw.fif', preload=True, verbose=False)\n",
    "print('The channels are:', raw.ch_names)\n",
    "print('The sampling frequency is:', raw.info['sfreq'])\n",
    "raw"
   ]
  },
  {
   "cell_type": "code",
   "execution_count": 3,
   "metadata": {},
   "outputs": [
    {
     "data": {
      "text/plain": [
       "array(['W', 'W', 'W', 'W', 'W', 'W', 'W', 'W', 'W', 'W', 'W', 'W', 'W',\n",
       "       'W', 'W', 'W', 'W', 'W', 'W', 'W', 'W', 'W', 'N1', 'W', 'W', 'W',\n",
       "       'W', 'N1', 'N1', 'N1', 'W', 'W', 'N1', 'N1', 'N1', 'N1', 'N2',\n",
       "       'N2', 'N2', 'W', 'N1', 'N2', 'N2', 'N2', 'N2', 'N2', 'N2', 'N2',\n",
       "       'N2', 'N2', 'N2', 'N2', 'N2', 'N2', 'N2', 'N2', 'N2', 'N2', 'N2',\n",
       "       'N2', 'N2', 'N2', 'N2', 'N2', 'N2', 'N2', 'N2', 'N2', 'N2', 'N3',\n",
       "       'N3', 'N3', 'N3', 'N3', 'N3', 'N3', 'N3', 'N3', 'N3', 'N3', 'N3',\n",
       "       'N3', 'N3', 'N3', 'N3', 'N3', 'N3', 'N3', 'N3', 'N3', 'N3', 'W',\n",
       "       'W', 'W', 'W', 'W', 'W', 'W'], dtype='<U2')"
      ]
     },
     "execution_count": 3,
     "metadata": {},
     "output_type": "execute_result"
    }
   ],
   "source": [
    "# Let's now load the human-scored hypnogram, where each value represents a 30-sec epoch.\n",
    "hyp = np.loadtxt('sub-02_hypno_30s.txt', dtype=str)\n",
    "hyp"
   ]
  },
  {
   "cell_type": "code",
   "execution_count": 4,
   "metadata": {},
   "outputs": [
    {
     "data": {
      "text/plain": [
       "Epoch\n",
       "0     WAKE\n",
       "1     WAKE\n",
       "2     WAKE\n",
       "3     WAKE\n",
       "4     WAKE\n",
       "      ... \n",
       "93    WAKE\n",
       "94    WAKE\n",
       "95    WAKE\n",
       "96    WAKE\n",
       "97    WAKE\n",
       "Name: Stage, Length: 98, dtype: object"
      ]
     },
     "execution_count": 4,
     "metadata": {},
     "output_type": "execute_result"
    }
   ],
   "source": [
    "# Convert it to a Hypnogram instance, which is the preferred way to manipulate hypnograms since v0.7\n",
    "hyp = yasa.Hypnogram(hyp, freq=\"30s\")\n",
    "# The hypnogram values can be obtained with\n",
    "hyp.hypno"
   ]
  },
  {
   "cell_type": "code",
   "execution_count": 5,
   "metadata": {},
   "outputs": [
    {
     "data": {
      "image/png": "[encoded data removed]",
      "text/plain": [
       "<Figure size 560x240 with 1 Axes>"
      ]
     },
     "metadata": {},
     "output_type": "display_data"
    }
   ],
   "source": [
    "# Let's plot it\n",
    "fig, ax = plt.subplots(1, 1, figsize=(7, 3), constrained_layout=True, dpi=80)\n",
    "ax = hyp.plot_hypnogram(fill_color=\"gainsboro\", ax=ax)"
   ]
  },
  {
   "cell_type": "markdown",
   "metadata": {},
   "source": [
    "## Sleep staging\n",
    "\n",
    "Automatic sleep stages classification can be done since YASA 0.4.0 using the [SleepStaging](https://raphaelvallat.com/yasa/build/html/generated/yasa.SleepStaging.html#yasa.SleepStaging) class. Make sure to read the [documentation](https://raphaelvallat.com/yasa/build/html/generated/yasa.SleepStaging.html#yasa.SleepStaging), which explains how the algorithm works."
   ]
  },
  {
   "cell_type": "code",
   "execution_count": 6,
   "metadata": {},
   "outputs": [],
   "source": [
    "# We first need to specify the channel names and, optionally, the age and sex of the participant\n",
    "# - \"raw\" is the name of the variable containing the polysomnography data loaded with MNE.\n",
    "# - \"eeg_name\" is the name of the EEG channel, preferentially a central derivation (e.g. C4-M1). This is always required to run the sleep staging algorithm.\n",
    "# - \"eog_name\" is the name of the EOG channel (e.g. LOC-M1). This is optional.\n",
    "# - \"eog_name\" is the name of the EOG channel (e.g. EMG1-EMG3). This is optional.\n",
    "# - \"metadata\" is a dictionary containing the age and sex of the participant. This is optional.\n",
    "sls = yasa.SleepStaging(raw, eeg_name=\"C4\", eog_name=\"EOG1\", emg_name=\"EMG1\", metadata=dict(age=21, male=False))"
   ]
  },
  {
   "cell_type": "code",
   "execution_count": 7,
   "metadata": {},
   "outputs": [
    {
     "name": "stderr",
     "output_type": "stream",
     "text": [
      "/Users/raphael/.pyenv/versions/3.9.6/lib/python3.9/site-packages/sklearn/base.py:329: UserWarning: Trying to unpickle estimator LabelEncoder from version 0.24.2 when using version 1.1.3. This might lead to breaking code or invalid results. Use at your own risk. For more info please refer to:\n",
      "https://scikit-learn.org/stable/model_persistence.html#security-maintainability-limitations\n",
      "  warnings.warn(\n"
     ]
    },
    {
     "data": {
      "text/plain": [
       "Epoch\n",
       "0     WAKE\n",
       "1     WAKE\n",
       "2     WAKE\n",
       "3     WAKE\n",
       "4     WAKE\n",
       "      ... \n",
       "93    WAKE\n",
       "94    WAKE\n",
       "95    WAKE\n",
       "96    WAKE\n",
       "97    WAKE\n",
       "Name: Stage, Length: 98, dtype: object"
      ]
     },
     "execution_count": 7,
     "metadata": {},
     "output_type": "execute_result"
    }
   ],
   "source": [
    "# Getting the predicted sleep stages is now as easy as:\n",
    "y_pred = sls.predict()\n",
    "y_pred.hypno"
   ]
  },
  {
   "cell_type": "code",
   "execution_count": 8,
   "metadata": {},
   "outputs": [
    {
     "name": "stdout",
     "output_type": "stream",
     "text": [
      "The overall agreement is 83.67%\n"
     ]
    }
   ],
   "source": [
    "# What is the accuracy of the prediction, compared to the human scoring\n",
    "accuracy = 100 * (hyp.hypno == y_pred.hypno).mean()\n",
    "print(f\"The overall agreement is {accuracy:.2f}%\")"
   ]
  },
  {
   "cell_type": "markdown",
   "metadata": {},
   "source": [
    "**Plot and sleep statistics**"
   ]
  },
  {
   "cell_type": "code",
   "execution_count": 9,
   "metadata": {},
   "outputs": [
    {
     "data": {
      "image/png": "[encoded data removed]",
      "text/plain": [
       "<Figure size 560x240 with 1 Axes>"
      ]
     },
     "metadata": {},
     "output_type": "display_data"
    }
   ],
   "source": [
    "# Plot the predicted hypnogram\n",
    "fig, ax = plt.subplots(1, 1, figsize=(7, 3), constrained_layout=True, dpi=80)\n",
    "ax = y_pred.plot_hypnogram(fill_color=\"gainsboro\", ax=ax)"
   ]
  },
  {
   "cell_type": "code",
   "execution_count": 10,
   "metadata": {},
   "outputs": [
    {
     "data": {
      "text/plain": [
       "{'TIB': 49.0,\n",
       " 'SPT': 28.0,\n",
       " 'WASO': 0.0,\n",
       " 'TST': 28.0,\n",
       " 'SE': 57.1429,\n",
       " 'SME': 100.0,\n",
       " 'SFI': 1.0714,\n",
       " 'SOL': 17.0,\n",
       " 'SOL_5min': 17.0,\n",
       " 'Lat_REM': nan,\n",
       " 'WAKE': 21.0,\n",
       " 'N1': 0.0,\n",
       " 'N2': 15.0,\n",
       " 'N3': 13.0,\n",
       " 'REM': 0.0,\n",
       " '%N1': 0.0,\n",
       " '%N2': 53.5714,\n",
       " '%N3': 46.4286,\n",
       " '%REM': 0.0}"
      ]
     },
     "execution_count": 10,
     "metadata": {},
     "output_type": "execute_result"
    }
   ],
   "source": [
    "# Calculate the summary sleep statistics of the predicted hypnogram\n",
    "y_pred.sleep_statistics()"
   ]
  },
  {
   "cell_type": "markdown",
   "metadata": {},
   "source": [
    "**Stage probabilities and confidence of the algorithm at each epoch**"
   ]
  },
  {
   "cell_type": "code",
   "execution_count": 11,
   "metadata": {},
   "outputs": [
    {
     "data": {
      "text/html": [
       "<div>\n",
       "<style scoped>\n",
       "    .dataframe tbody tr th:only-of-type {\n",
       "        vertical-align: middle;\n",
       "    }\n",
       "\n",
       "    .dataframe tbody tr th {\n",
       "        vertical-align: top;\n",
       "    }\n",
       "\n",
       "    .dataframe thead th {\n",
       "        text-align: right;\n",
       "    }\n",
       "</style>\n",
       "<table border=\"1\" class=\"dataframe\">\n",
       "  <thead>\n",
       "    <tr style=\"text-align: right;\">\n",
       "      <th></th>\n",
       "      <th>N1</th>\n",
       "      <th>N2</th>\n",
       "      <th>N3</th>\n",
       "      <th>R</th>\n",
       "      <th>W</th>\n",
       "    </tr>\n",
       "    <tr>\n",
       "      <th>epoch</th>\n",
       "      <th></th>\n",
       "      <th></th>\n",
       "      <th></th>\n",
       "      <th></th>\n",
       "      <th></th>\n",
       "    </tr>\n",
       "  </thead>\n",
       "  <tbody>\n",
       "    <tr>\n",
       "      <th>0</th>\n",
       "      <td>0.002202</td>\n",
       "      <td>0.005040</td>\n",
       "      <td>0.000703</td>\n",
       "      <td>1.875966e-18</td>\n",
       "      <td>0.992055</td>\n",
       "    </tr>\n",
       "    <tr>\n",
       "      <th>1</th>\n",
       "      <td>0.003362</td>\n",
       "      <td>0.003284</td>\n",
       "      <td>0.001926</td>\n",
       "      <td>8.279263e-05</td>\n",
       "      <td>0.991345</td>\n",
       "    </tr>\n",
       "    <tr>\n",
       "      <th>2</th>\n",
       "      <td>0.004078</td>\n",
       "      <td>0.003225</td>\n",
       "      <td>0.000095</td>\n",
       "      <td>7.688612e-04</td>\n",
       "      <td>0.991833</td>\n",
       "    </tr>\n",
       "    <tr>\n",
       "      <th>3</th>\n",
       "      <td>0.001918</td>\n",
       "      <td>0.001771</td>\n",
       "      <td>0.000052</td>\n",
       "      <td>7.023297e-04</td>\n",
       "      <td>0.995557</td>\n",
       "    </tr>\n",
       "    <tr>\n",
       "      <th>4</th>\n",
       "      <td>0.002624</td>\n",
       "      <td>0.007565</td>\n",
       "      <td>0.000221</td>\n",
       "      <td>5.963933e-04</td>\n",
       "      <td>0.988994</td>\n",
       "    </tr>\n",
       "    <tr>\n",
       "      <th>...</th>\n",
       "      <td>...</td>\n",
       "      <td>...</td>\n",
       "      <td>...</td>\n",
       "      <td>...</td>\n",
       "      <td>...</td>\n",
       "    </tr>\n",
       "    <tr>\n",
       "      <th>93</th>\n",
       "      <td>0.004001</td>\n",
       "      <td>0.009041</td>\n",
       "      <td>0.004678</td>\n",
       "      <td>9.823759e-05</td>\n",
       "      <td>0.982182</td>\n",
       "    </tr>\n",
       "    <tr>\n",
       "      <th>94</th>\n",
       "      <td>0.001910</td>\n",
       "      <td>0.028894</td>\n",
       "      <td>0.136638</td>\n",
       "      <td>2.746406e-04</td>\n",
       "      <td>0.832283</td>\n",
       "    </tr>\n",
       "    <tr>\n",
       "      <th>95</th>\n",
       "      <td>0.001399</td>\n",
       "      <td>0.001958</td>\n",
       "      <td>0.000488</td>\n",
       "      <td>4.246366e-05</td>\n",
       "      <td>0.996112</td>\n",
       "    </tr>\n",
       "    <tr>\n",
       "      <th>96</th>\n",
       "      <td>0.001948</td>\n",
       "      <td>0.000891</td>\n",
       "      <td>0.000094</td>\n",
       "      <td>6.057920e-05</td>\n",
       "      <td>0.997007</td>\n",
       "    </tr>\n",
       "    <tr>\n",
       "      <th>97</th>\n",
       "      <td>0.000845</td>\n",
       "      <td>0.001049</td>\n",
       "      <td>0.000028</td>\n",
       "      <td>3.148597e-05</td>\n",
       "      <td>0.998046</td>\n",
       "    </tr>\n",
       "  </tbody>\n",
       "</table>\n",
       "<p>98 rows × 5 columns</p>\n",
       "</div>"
      ],
      "text/plain": [
       "             N1        N2        N3             R         W\n",
       "epoch                                                      \n",
       "0      0.002202  0.005040  0.000703  1.875966e-18  0.992055\n",
       "1      0.003362  0.003284  0.001926  8.279263e-05  0.991345\n",
       "2      0.004078  0.003225  0.000095  7.688612e-04  0.991833\n",
       "3      0.001918  0.001771  0.000052  7.023297e-04  0.995557\n",
       "4      0.002624  0.007565  0.000221  5.963933e-04  0.988994\n",
       "...         ...       ...       ...           ...       ...\n",
       "93     0.004001  0.009041  0.004678  9.823759e-05  0.982182\n",
       "94     0.001910  0.028894  0.136638  2.746406e-04  0.832283\n",
       "95     0.001399  0.001958  0.000488  4.246366e-05  0.996112\n",
       "96     0.001948  0.000891  0.000094  6.057920e-05  0.997007\n",
       "97     0.000845  0.001049  0.000028  3.148597e-05  0.998046\n",
       "\n",
       "[98 rows x 5 columns]"
      ]
     },
     "execution_count": 11,
     "metadata": {},
     "output_type": "execute_result"
    }
   ],
   "source": [
    "# What are the predicted probabilities of each sleep stage at each epoch?\n",
    "sls.predict_proba()"
   ]
  },
  {
   "cell_type": "code",
   "execution_count": 12,
   "metadata": {},
   "outputs": [
    {
     "data": {
      "image/png": "[encoded data removed]",
      "text/plain": [
       "<Figure size 1000x500 with 1 Axes>"
      ]
     },
     "metadata": {},
     "output_type": "display_data"
    }
   ],
   "source": [
    "# Plot the predicted probabilities\n",
    "sls.plot_predict_proba();"
   ]
  },
  {
   "cell_type": "code",
   "execution_count": 13,
   "metadata": {},
   "outputs": [
    {
     "data": {
      "text/plain": [
       "epoch\n",
       "0     0.992055\n",
       "1     0.991345\n",
       "2     0.991833\n",
       "3     0.995557\n",
       "4     0.988994\n",
       "        ...   \n",
       "93    0.982182\n",
       "94    0.832283\n",
       "95    0.996112\n",
       "96    0.997007\n",
       "97    0.998046\n",
       "Length: 98, dtype: float64"
      ]
     },
     "execution_count": 13,
     "metadata": {},
     "output_type": "execute_result"
    }
   ],
   "source": [
    "# From the probabilities, we can extract a confidence level (ranging from 0 to 1) for each epoch.\n",
    "confidence = sls.predict_proba().max(1)\n",
    "confidence"
   ]
  },
  {
   "cell_type": "markdown",
   "metadata": {},
   "source": [
    "**Exporting to a CSV file**"
   ]
  },
  {
   "cell_type": "code",
   "execution_count": 14,
   "metadata": {},
   "outputs": [],
   "source": [
    "# The predicted sleep stages can be exported to a CSV file with:\n",
    "hyp.hypno.to_csv(\"my_hypno.csv\")"
   ]
  },
  {
   "cell_type": "code",
   "execution_count": 15,
   "metadata": {},
   "outputs": [
    {
     "data": {
      "text/html": [
       "<div>\n",
       "<style scoped>\n",
       "    .dataframe tbody tr th:only-of-type {\n",
       "        vertical-align: middle;\n",
       "    }\n",
       "\n",
       "    .dataframe tbody tr th {\n",
       "        vertical-align: top;\n",
       "    }\n",
       "\n",
       "    .dataframe thead th {\n",
       "        text-align: right;\n",
       "    }\n",
       "</style>\n",
       "<table border=\"1\" class=\"dataframe\">\n",
       "  <thead>\n",
       "    <tr style=\"text-align: right;\">\n",
       "      <th></th>\n",
       "      <th>Stage</th>\n",
       "      <th>Confidence</th>\n",
       "    </tr>\n",
       "    <tr>\n",
       "      <th>Epoch</th>\n",
       "      <th></th>\n",
       "      <th></th>\n",
       "    </tr>\n",
       "  </thead>\n",
       "  <tbody>\n",
       "    <tr>\n",
       "      <th>0</th>\n",
       "      <td>WAKE</td>\n",
       "      <td>0.992055</td>\n",
       "    </tr>\n",
       "    <tr>\n",
       "      <th>1</th>\n",
       "      <td>WAKE</td>\n",
       "      <td>0.991345</td>\n",
       "    </tr>\n",
       "    <tr>\n",
       "      <th>2</th>\n",
       "      <td>WAKE</td>\n",
       "      <td>0.991833</td>\n",
       "    </tr>\n",
       "    <tr>\n",
       "      <th>3</th>\n",
       "      <td>WAKE</td>\n",
       "      <td>0.995557</td>\n",
       "    </tr>\n",
       "    <tr>\n",
       "      <th>4</th>\n",
       "      <td>WAKE</td>\n",
       "      <td>0.988994</td>\n",
       "    </tr>\n",
       "    <tr>\n",
       "      <th>5</th>\n",
       "      <td>WAKE</td>\n",
       "      <td>0.986805</td>\n",
       "    </tr>\n",
       "  </tbody>\n",
       "</table>\n",
       "</div>"
      ],
      "text/plain": [
       "      Stage  Confidence\n",
       "Epoch                  \n",
       "0      WAKE    0.992055\n",
       "1      WAKE    0.991345\n",
       "2      WAKE    0.991833\n",
       "3      WAKE    0.995557\n",
       "4      WAKE    0.988994\n",
       "5      WAKE    0.986805"
      ]
     },
     "execution_count": 15,
     "metadata": {},
     "output_type": "execute_result"
    }
   ],
   "source": [
    "# We can also add the confidence level:\n",
    "df_pred = hyp.hypno.to_frame()\n",
    "df_pred[\"Confidence\"] = confidence\n",
    "df_pred.head(6)"
   ]
  },
  {
   "cell_type": "code",
   "execution_count": 16,
   "metadata": {},
   "outputs": [],
   "source": [
    "# Now export to a CSV file\n",
    "df_pred.to_csv(\"my_hypno.csv\")"
   ]
  },
  {
   "cell_type": "markdown",
   "metadata": {},
   "source": [
    "**Applying the detection using only a single EEG derivation**"
   ]
  },
  {
   "cell_type": "code",
   "execution_count": 17,
   "metadata": {},
   "outputs": [
    {
     "name": "stderr",
     "output_type": "stream",
     "text": [
      "/Users/raphael/.pyenv/versions/3.9.6/lib/python3.9/site-packages/sklearn/base.py:329: UserWarning: Trying to unpickle estimator LabelEncoder from version 0.24.2 when using version 1.1.3. This might lead to breaking code or invalid results. Use at your own risk. For more info please refer to:\n",
      "https://scikit-learn.org/stable/model_persistence.html#security-maintainability-limitations\n",
      "  warnings.warn(\n"
     ]
    },
    {
     "data": {
      "text/plain": [
       "Epoch\n",
       "0     WAKE\n",
       "1     WAKE\n",
       "2     WAKE\n",
       "3     WAKE\n",
       "4     WAKE\n",
       "      ... \n",
       "93    WAKE\n",
       "94    WAKE\n",
       "95    WAKE\n",
       "96    WAKE\n",
       "97    WAKE\n",
       "Name: Stage, Length: 98, dtype: object"
      ]
     },
     "execution_count": 17,
     "metadata": {},
     "output_type": "execute_result"
    }
   ],
   "source": [
    "# Using just an EEG channel (= no EOG or EMG)\n",
    "y_pred = yasa.SleepStaging(raw, eeg_name=\"C4\").predict()\n",
    "y_pred.hypno"
   ]
  }
 ],
 "metadata": {
  "kernelspec": {
   "display_name": "Python 3 (ipykernel)",
   "language": "python",
   "name": "python3"
  },
  "language_info": {
   "codemirror_mode": {
    "name": "ipython",
    "version": 3
   },
   "file_extension": ".py",
   "mimetype": "text/x-python",
   "name": "python",
   "nbconvert_exporter": "python",
   "pygments_lexer": "ipython3",
   "version": "3.9.6"
  }
 },
 "nbformat": 4,
 "nbformat_minor": 4
}
